{
 "cells": [
  {
   "cell_type": "code",
   "execution_count": 6,
   "id": "b1f6a1b2-c4f7-49ef-a5a5-f69a4858d5d9",
   "metadata": {},
   "outputs": [],
   "source": [
    "# OPENAI_API_KEY=\"\""
   ]
  },
  {
   "cell_type": "code",
   "execution_count": 7,
   "id": "f16b865b-0a1c-41f2-af0a-18bac57da986",
   "metadata": {},
   "outputs": [],
   "source": [
    "import getpass\n",
    "import os\n",
    "from langchain_openai import ChatOpenAI\n",
    "from langchain_community.tools.tavily_search import TavilySearchResults\n",
    "from langchain_core.messages import HumanMessage\n",
    "from langgraph.prebuilt import create_react_agent\n",
    "from dotenv import load_dotenv"
   ]
  },
  {
   "cell_type": "code",
   "execution_count": 21,
   "id": "592b0c46-2289-4fe1-8884-649c480e701d",
   "metadata": {},
   "outputs": [],
   "source": [
    "from langchain_ollama.chat_models import ChatOllama\n",
    "local_model = \"llama3.2\"\n",
    "llm = ChatOllama(model=local_model)"
   ]
  },
  {
   "cell_type": "code",
   "execution_count": 22,
   "id": "43e859c5-0aad-4084-b89f-9fabd1179a3c",
   "metadata": {},
   "outputs": [],
   "source": [
    "search = TavilySearchResults(max_results=2, tavily_api_key=\"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\")"
   ]
  },
  {
   "cell_type": "code",
   "execution_count": 23,
   "id": "491c52eb-0294-4f39-a968-24093550605f",
   "metadata": {},
   "outputs": [],
   "source": [
    "tools = [search]"
   ]
  },
  {
   "cell_type": "code",
   "execution_count": 26,
   "id": "a6a0c1f6-406f-49e8-8081-51c44eed7ab6",
   "metadata": {},
   "outputs": [],
   "source": [
    "agent_executor = create_react_agent(llm, tools)"
   ]
  },
  {
   "cell_type": "code",
   "execution_count": 35,
   "id": "505f58c3-e8c3-493a-9b18-a1aaac88465f",
   "metadata": {},
   "outputs": [
    {
     "name": "stdin",
     "output_type": "stream",
     "text": [
      "Tavily search: tell me the latest news of the world as of may end 2025\n"
     ]
    }
   ],
   "source": [
    "query = input(\"Tavily search:\")"
   ]
  },
  {
   "cell_type": "code",
   "execution_count": 36,
   "id": "8e6ca07e-7813-450c-9a20-d723cc5a44dc",
   "metadata": {},
   "outputs": [],
   "source": [
    "response = agent_executor.invoke(\n",
    "    {\n",
    "        \"messages\": [HumanMessage(content=query)]\n",
    "    }\n",
    ")"
   ]
  },
  {
   "cell_type": "code",
   "execution_count": 37,
   "id": "a4f712f2-b18f-45be-9b06-2fd2f9b3cadf",
   "metadata": {},
   "outputs": [
    {
     "name": "stdout",
     "output_type": "stream",
     "text": [
      "Based on the tool call response, here is a formatted answer to the original user question:\n",
      "\n",
      "\"Here are the latest news updates as of May 2025:\n",
      "\n",
      "* The United Nations Secretary-General António Guterres renewed his calls for justice and reparations for Africans and the diaspora.\n",
      "* Education has suffered amid violence in the Democratic Republic of Congo, according to a recent report from the WHO (World Health Organization).\n",
      "* There are more hurricanes expected to hit Haiti in the coming months.\n",
      "\n",
      "Additionally, a meeting of African political, financial, and social leaders took place in Abidjan, Côte d'Ivoire, to discuss the future of development on the continent. The meeting highlighted the potential of digitalization as an engine for inclusive and resilient development, but emphasized the need for local leadership and strategic vision.\n",
      "\n",
      "You can find more information about these events and others by visiting the Global Issues website or checking out the current events portal on Wikipedia.\"\n"
     ]
    }
   ],
   "source": [
    "print(response['messages'][-1].content)"
   ]
  }
 ],
 "metadata": {
  "kernelspec": {
   "display_name": "Python 3.11",
   "language": "python",
   "name": "py311"
  },
  "language_info": {
   "codemirror_mode": {
    "name": "ipython",
    "version": 3
   },
   "file_extension": ".py",
   "mimetype": "text/x-python",
   "name": "python",
   "nbconvert_exporter": "python",
   "pygments_lexer": "ipython3",
   "version": "3.11.0"
  }
 },
 "nbformat": 4,
 "nbformat_minor": 5
}
